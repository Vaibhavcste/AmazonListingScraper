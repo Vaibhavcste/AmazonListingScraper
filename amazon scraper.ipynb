{
 "cells": [
  {
   "cell_type": "code",
   "execution_count": 1,
   "metadata": {},
   "outputs": [],
   "source": [
    "import requests\n",
    "from bs4 import BeautifulSoup\n",
    "import pandas as pd"
   ]
  },
  {
   "cell_type": "code",
   "execution_count": 2,
   "metadata": {},
   "outputs": [],
   "source": [
    "URL = 'https://www.amazon.in/Bhavyam-Multi-Function-Scalable-Folding-Degrees/dp/B07NW59J7G/ref=pd_sbs_201_7?_encoding=UTF8&pd_rd_i=B07NW59J7G&pd_rd_r=e44f237e-dfae-4fb6-90a8-35964daf5bd2&pd_rd_w=sxlR9&pd_rd_wg=PdKou&pf_rd_p=fbf43daf-8fb3-47b5-9deb-ae9cce3969a9&pf_rd_r=NJ29JZMJ4K5VGXD0N96N&psc=1&refRID=NJ29JZMJ4K5VGXD0N96N'\n",
    "headers = {\n",
    "    \"User-Agent\":\"Mozilla/5.0 (Windows NT 10.0; Win64; x64) AppleWebKit/537.36 (KHTML, like Gecko) Chrome/79.0.3945.130 Safari/537.36\"}\n"
   ]
  },
  {
   "cell_type": "code",
   "execution_count": 3,
   "metadata": {},
   "outputs": [],
   "source": [
    "page=requests.get(URL,headers=headers)\n",
    "soup=BeautifulSoup(page.content,'html.parser')\n"
   ]
  },
  {
   "cell_type": "markdown",
   "metadata": {},
   "source": [
    "# Scraping Function "
   ]
  },
  {
   "cell_type": "code",
   "execution_count": 4,
   "metadata": {},
   "outputs": [],
   "source": [
    "def getData():\n",
    "    \n",
    "    #get product title\n",
    "    title=soup.find(id=\"productTitle\").get_text()\n",
    "    TitleStripped=title.strip()\n",
    "    #get product price\n",
    "    price=soup.find(id=\"priceblock_ourprice\").get_text()\n",
    "    cprice=float(price[2:])\n",
    "    #get product description\n",
    "    description=soup.find(id=\"productDescription\").get_text().strip()\n",
    "    \n",
    "    #get Features in an array\n",
    "    features = []\n",
    "    for li in soup.select(\"#feature-bullets\")[0].findAll('li'):\n",
    "        features.append(li.get_text().strip())\n",
    "    #get product categories\n",
    "    categories=[]\n",
    "    category = soup.find(id=\"wayfinding-breadcrumbs_container\")\n",
    "    for li in category.findAll('li'):\n",
    "        categories.append(li.get_text().strip())\n",
    "    categories= [x for x in categories if x != '›'] \n",
    "    catergories=categories[:-1]\n",
    "    #get Product Rating \n",
    "    PRating = soup.find(id=\"acrCustomerReviewText\").get_text()\n",
    "    PRating=PRating.split()\n",
    "    PRating[0]\n",
    "\n",
    "    d={'Title':TitleStripped,'Price':cprice,'Desc':description,'Bullet1':features[0],'Bullet2':features[1],'Bullet3':features[2],'Bullet4':features[3],'Category':categories,'Rating':PRating[0]}\n",
    "    df=pd.DataFrame([d])\n",
    "    df.to_excel('listing1.xlsx')\n",
    "\n",
    "\n"
   ]
  },
  {
   "cell_type": "code",
   "execution_count": 5,
   "metadata": {},
   "outputs": [],
   "source": [
    "getData()"
   ]
  },
  {
   "cell_type": "code",
   "execution_count": 441,
   "metadata": {},
   "outputs": [
    {
     "data": {
      "text/plain": [
       "'65'"
      ]
     },
     "execution_count": 441,
     "metadata": {},
     "output_type": "execute_result"
    }
   ],
   "source": [
    "\n"
   ]
  },
  {
   "cell_type": "code",
   "execution_count": null,
   "metadata": {},
   "outputs": [],
   "source": []
  },
  {
   "cell_type": "code",
   "execution_count": null,
   "metadata": {},
   "outputs": [],
   "source": []
  },
  {
   "cell_type": "code",
   "execution_count": null,
   "metadata": {},
   "outputs": [],
   "source": []
  },
  {
   "cell_type": "code",
   "execution_count": null,
   "metadata": {},
   "outputs": [],
   "source": []
  },
  {
   "cell_type": "code",
   "execution_count": null,
   "metadata": {},
   "outputs": [],
   "source": []
  },
  {
   "cell_type": "code",
   "execution_count": null,
   "metadata": {},
   "outputs": [],
   "source": []
  }
 ],
 "metadata": {
  "kernelspec": {
   "display_name": "Python 3",
   "language": "python",
   "name": "python3"
  },
  "language_info": {
   "codemirror_mode": {
    "name": "ipython",
    "version": 3
   },
   "file_extension": ".py",
   "mimetype": "text/x-python",
   "name": "python",
   "nbconvert_exporter": "python",
   "pygments_lexer": "ipython3",
   "version": "3.7.4"
  }
 },
 "nbformat": 4,
 "nbformat_minor": 4
}
